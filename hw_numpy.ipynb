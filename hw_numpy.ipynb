{
  "cells": [
    {
      "cell_type": "markdown",
      "metadata": {
        "id": "sT9tdpYsLN7J"
      },
      "source": [
        "# Домашняя работа. Numpy\n",
        "\n",
        "1. Скачайте этот ноутбук к себе.\n",
        "2. Заполните пропущенные ячейки, отвечая на заданные вопросы. Там должен быть код! (если не сказано обратное)\n",
        "3. Сохраните результат в своём гитхаб репозитории.\n",
        "\n",
        "#### Полезная литература\n",
        "\n",
        "- http://www.numpy.org/\n",
        "- https://jakevdp.github.io/PythonDataScienceHandbook/02.00-introduction-to-numpy.html\n",
        "- https://docs.scipy.org/doc/numpy/user/quickstart.html"
      ]
    },
    {
      "cell_type": "markdown",
      "metadata": {
        "id": "-8-UHG9GKQhB"
      },
      "source": [
        "1) Импортировать numpy и написать версию"
      ]
    },
    {
      "cell_type": "code",
      "execution_count": null,
      "metadata": {
        "colab": {
          "base_uri": "https://localhost:8080/"
        },
        "id": "sYz7yMyUKQhF",
        "outputId": "ca637a9a-baa7-49ce-9e7b-6ea7198e0089"
      },
      "outputs": [
        {
          "output_type": "stream",
          "name": "stdout",
          "text": [
            "1.26.4\n"
          ]
        }
      ],
      "source": [
        "import numpy as np\n",
        "print(np.__version__)"
      ]
    },
    {
      "cell_type": "markdown",
      "metadata": {
        "id": "xHer7abyKQhH"
      },
      "source": [
        "2) Создать нулевой вектор размера 10"
      ]
    },
    {
      "cell_type": "code",
      "execution_count": null,
      "metadata": {
        "colab": {
          "base_uri": "https://localhost:8080/"
        },
        "id": "tXZOojhpKQhJ",
        "outputId": "78a8c364-0ab0-4eac-e865-9b41fb3e37cf"
      },
      "outputs": [
        {
          "output_type": "execute_result",
          "data": {
            "text/plain": [
              "array([0., 0., 0., 0., 0., 0., 0., 0., 0., 0.])"
            ]
          },
          "metadata": {},
          "execution_count": 3
        }
      ],
      "source": [
        "np.zeros(10)"
      ]
    },
    {
      "cell_type": "markdown",
      "metadata": {
        "id": "nMJDN6WnKQhL"
      },
      "source": [
        "3) Создать вектор заполненный 7-ами размера 7"
      ]
    },
    {
      "cell_type": "code",
      "execution_count": null,
      "metadata": {
        "colab": {
          "base_uri": "https://localhost:8080/"
        },
        "id": "2odJIkejKQhO",
        "outputId": "eddef1b9-fb67-4e3f-ea3b-4a6d695c44b5"
      },
      "outputs": [
        {
          "output_type": "execute_result",
          "data": {
            "text/plain": [
              "array([[7, 7, 7, 7, 7, 7, 7]])"
            ]
          },
          "metadata": {},
          "execution_count": 9
        }
      ],
      "source": [
        "np.full((1,7),7)"
      ]
    },
    {
      "cell_type": "markdown",
      "metadata": {
        "id": "cSr7Ko0bKQhO"
      },
      "source": [
        "4) Создать вектор заполненный четными числами от 10 до 100"
      ]
    },
    {
      "cell_type": "code",
      "execution_count": null,
      "metadata": {
        "colab": {
          "base_uri": "https://localhost:8080/"
        },
        "id": "GqNtNc_oKQhQ",
        "outputId": "6f16777e-d3c3-41eb-c2c7-1cccc284cf91"
      },
      "outputs": [
        {
          "output_type": "execute_result",
          "data": {
            "text/plain": [
              "array([ 10,  12,  14,  16,  18,  20,  22,  24,  26,  28,  30,  32,  34,\n",
              "        36,  38,  40,  42,  44,  46,  48,  50,  52,  54,  56,  58,  60,\n",
              "        62,  64,  66,  68,  70,  72,  74,  76,  78,  80,  82,  84,  86,\n",
              "        88,  90,  92,  94,  96,  98, 100])"
            ]
          },
          "metadata": {},
          "execution_count": 17
        }
      ],
      "source": [
        "arr = np.linspace(10, 100, 46, dtype=int)\n",
        "arr"
      ]
    },
    {
      "cell_type": "markdown",
      "metadata": {
        "id": "YoCY5Vn7KQhR"
      },
      "source": [
        "5) Создать массив случайных чисел и развернуть его задом наперёд"
      ]
    },
    {
      "cell_type": "code",
      "execution_count": null,
      "metadata": {
        "colab": {
          "base_uri": "https://localhost:8080/"
        },
        "id": "t6YWWwNIKQhT",
        "outputId": "a2bec29d-aadd-4572-bef3-21569a989c34"
      },
      "outputs": [
        {
          "output_type": "stream",
          "name": "stdout",
          "text": [
            "[ 1.68159423 -0.60374934 -0.35401038 -0.68864363  0.33238911  0.73128163\n",
            "  0.54373104  0.98805738  1.36157209 -0.5672542 ]\n"
          ]
        },
        {
          "output_type": "execute_result",
          "data": {
            "text/plain": [
              "array([-0.5672542 ,  1.36157209,  0.98805738,  0.54373104,  0.73128163,\n",
              "        0.33238911, -0.68864363, -0.35401038, -0.60374934,  1.68159423])"
            ]
          },
          "metadata": {},
          "execution_count": 27
        }
      ],
      "source": [
        "arr = np.random.randn(10)\n",
        "\n",
        "print(arr)\n",
        "\n",
        "arr[::-1]"
      ]
    },
    {
      "cell_type": "markdown",
      "metadata": {
        "id": "fqCcfcyDKQhX"
      },
      "source": [
        "6) Создать двумерную матрицу размера 3 на 3, заполненную числами от 0 до 9"
      ]
    },
    {
      "cell_type": "code",
      "execution_count": null,
      "metadata": {
        "colab": {
          "base_uri": "https://localhost:8080/"
        },
        "id": "kwJeFzpJKQha",
        "outputId": "e7db9e94-2c89-4b2c-ed3b-5c200fb66285"
      },
      "outputs": [
        {
          "output_type": "execute_result",
          "data": {
            "text/plain": [
              "array([[0, 1, 2],\n",
              "       [3, 4, 5],\n",
              "       [6, 7, 8]])"
            ]
          },
          "metadata": {},
          "execution_count": 40
        }
      ],
      "source": [
        "arr = np.arange(9).reshape(3,3)\n",
        "arr"
      ]
    },
    {
      "cell_type": "markdown",
      "metadata": {
        "id": "z0rocJiaKQha"
      },
      "source": [
        "7) Создать матрицу размера 4 на 4 с единицами на диагонали смещеной на один наверх."
      ]
    },
    {
      "cell_type": "code",
      "execution_count": null,
      "metadata": {
        "colab": {
          "base_uri": "https://localhost:8080/"
        },
        "id": "-7pYJNZtKQhc",
        "outputId": "8d204bf8-544c-4998-ebe1-5efc4ca24f50"
      },
      "outputs": [
        {
          "output_type": "execute_result",
          "data": {
            "text/plain": [
              "array([[0., 1., 0., 0.],\n",
              "       [0., 0., 1., 0.],\n",
              "       [0., 0., 0., 1.],\n",
              "       [0., 0., 0., 0.]])"
            ]
          },
          "metadata": {},
          "execution_count": 42
        }
      ],
      "source": [
        "arr = np.eye(4, k=1)\n",
        "arr"
      ]
    },
    {
      "cell_type": "markdown",
      "metadata": {
        "id": "pRBaLU6xKQhd"
      },
      "source": [
        "8) Создать матрицу с числами в диапазоне от 1 до 4 по диагонали. В других ячейках матрицы должны быть семерки."
      ]
    },
    {
      "cell_type": "code",
      "execution_count": null,
      "metadata": {
        "colab": {
          "base_uri": "https://localhost:8080/"
        },
        "id": "LSJPqPp7KQhd",
        "outputId": "ceeb3b1d-ad8b-41a1-c196-b1f87c63e739"
      },
      "outputs": [
        {
          "output_type": "execute_result",
          "data": {
            "text/plain": [
              "array([[1, 7, 7, 7],\n",
              "       [7, 2, 7, 7],\n",
              "       [7, 7, 3, 7],\n",
              "       [7, 7, 7, 4]])"
            ]
          },
          "metadata": {},
          "execution_count": 63
        }
      ],
      "source": [
        "arr = np.full((4,4),7)\n",
        "np.fill_diagonal(arr, [1,2,3,4])\n",
        "arr"
      ]
    },
    {
      "cell_type": "markdown",
      "metadata": {
        "id": "iUqMeOflKQhg"
      },
      "source": [
        "9) Создать матрицу размера 5 на 5 заполненную чилами от 0 до 4 в строках."
      ]
    },
    {
      "cell_type": "code",
      "execution_count": null,
      "metadata": {
        "colab": {
          "base_uri": "https://localhost:8080/"
        },
        "id": "1Kfg7xSIKQhh",
        "outputId": "d10e7a57-f5b4-4c41-e4cb-65e3b5228df4"
      },
      "outputs": [
        {
          "output_type": "execute_result",
          "data": {
            "text/plain": [
              "array([[0, 1, 2, 3, 4],\n",
              "       [0, 1, 2, 3, 4],\n",
              "       [0, 1, 2, 3, 4],\n",
              "       [0, 1, 2, 3, 4],\n",
              "       [0, 1, 2, 3, 4]])"
            ]
          },
          "metadata": {},
          "execution_count": 74
        }
      ],
      "source": [
        "arr = np.arange(5)\n",
        "np.repeat(arr,5).reshape(5,5).transpose()\n",
        "\n"
      ]
    },
    {
      "cell_type": "markdown",
      "metadata": {
        "id": "_hS8eGwVKQhh"
      },
      "source": [
        "10) Создать матрицу случайных чисел размера 10 на 10 и отнять среднее по строкам из каждого элемента строки"
      ]
    },
    {
      "cell_type": "code",
      "execution_count": null,
      "metadata": {
        "colab": {
          "base_uri": "https://localhost:8080/"
        },
        "id": "kXnZ3KgiKQhs",
        "outputId": "7ca86102-8322-4a4b-ffe4-59fd43eb88fe"
      },
      "outputs": [
        {
          "output_type": "stream",
          "name": "stdout",
          "text": [
            "[[7 9 8 3 7 3 2 7 6 2]\n",
            " [8 9 8 2 5 9 9 7 9 1]\n",
            " [6 6 3 9 5 4 5 0 1 0]\n",
            " [5 4 4 5 3 4 7 6 7 5]\n",
            " [6 7 7 1 3 9 2 4 7 5]\n",
            " [2 8 5 7 9 7 4 7 5 4]\n",
            " [0 7 3 7 1 8 9 4 9 8]\n",
            " [5 2 1 0 3 8 4 5 7 7]\n",
            " [8 3 6 6 9 3 9 3 6 1]\n",
            " [4 4 4 2 5 0 7 4 8 9]]\n",
            "[[ 1.82  3.82  2.82 -2.18  1.82 -2.18 -3.18  1.82  0.82 -3.18]\n",
            " [ 2.82  3.82  2.82 -3.18 -0.18  3.82  3.82  1.82  3.82 -4.18]\n",
            " [ 0.82  0.82 -2.18  3.82 -0.18 -1.18 -0.18 -5.18 -4.18 -5.18]\n",
            " [-0.18 -1.18 -1.18 -0.18 -2.18 -1.18  1.82  0.82  1.82 -0.18]\n",
            " [ 0.82  1.82  1.82 -4.18 -2.18  3.82 -3.18 -1.18  1.82 -0.18]\n",
            " [-3.18  2.82 -0.18  1.82  3.82  1.82 -1.18  1.82 -0.18 -1.18]\n",
            " [-5.18  1.82 -2.18  1.82 -4.18  2.82  3.82 -1.18  3.82  2.82]\n",
            " [-0.18 -3.18 -4.18 -5.18 -2.18  2.82 -1.18 -0.18  1.82  1.82]\n",
            " [ 2.82 -2.18  0.82  0.82  3.82 -2.18  3.82 -2.18  0.82 -4.18]\n",
            " [-1.18 -1.18 -1.18 -3.18 -0.18 -5.18  1.82 -1.18  2.82  3.82]]\n"
          ]
        }
      ],
      "source": [
        "arr = np.random.randint(0, 10, (10, 10))\n",
        "avg = arr.mean()\n",
        "res = arr - avg\n",
        "\n",
        "print(arr)\n",
        "print(res)\n"
      ]
    },
    {
      "cell_type": "markdown",
      "metadata": {
        "id": "mdyQVZ-pKQhs"
      },
      "source": [
        "11) Создать матрицу случайных чисел размера 10 на 10 и отнять медиану по столбцам из каждого элемента столбца  "
      ]
    },
    {
      "cell_type": "code",
      "execution_count": null,
      "metadata": {
        "id": "u5ycnoBVKQht",
        "colab": {
          "base_uri": "https://localhost:8080/"
        },
        "outputId": "e8c117e8-0aec-4316-fce5-7ab3c261305b"
      },
      "outputs": [
        {
          "output_type": "stream",
          "name": "stdout",
          "text": [
            "[[4 2 3 4 1 8 8 9 6 5]\n",
            " [8 2 5 5 4 0 7 7 4 2]\n",
            " [1 0 3 6 1 8 0 9 8 7]\n",
            " [8 5 0 1 4 2 7 8 7 6]\n",
            " [1 0 7 2 4 2 4 6 8 5]\n",
            " [3 0 9 8 4 3 2 9 4 0]\n",
            " [7 3 7 3 5 8 3 4 4 8]\n",
            " [1 6 2 0 5 7 3 4 8 9]\n",
            " [4 2 6 0 6 6 7 6 6 6]\n",
            " [8 7 7 4 6 4 5 5 3 5]]\n",
            "[[-1. -3. -2. -1. -4.  3.  3.  4.  1.  0.]\n",
            " [ 3. -3.  0.  0. -1. -5.  2.  2. -1. -3.]\n",
            " [-4. -5. -2.  1. -4.  3. -5.  4.  3.  2.]\n",
            " [ 3.  0. -5. -4. -1. -3.  2.  3.  2.  1.]\n",
            " [-4. -5.  2. -3. -1. -3. -1.  1.  3.  0.]\n",
            " [-2. -5.  4.  3. -1. -2. -3.  4. -1. -5.]\n",
            " [ 2. -2.  2. -2.  0.  3. -2. -1. -1.  3.]\n",
            " [-4.  1. -3. -5.  0.  2. -2. -1.  3.  4.]\n",
            " [-1. -3.  1. -5.  1.  1.  2.  1.  1.  1.]\n",
            " [ 3.  2.  2. -1.  1. -1.  0.  0. -2.  0.]]\n"
          ]
        }
      ],
      "source": [
        "arr = np.random.randint(0, 10, (10, 10))\n",
        "med = np.median(arr)\n",
        "res = arr - med\n",
        "\n",
        "print(arr)\n",
        "print(res)\n"
      ]
    },
    {
      "cell_type": "markdown",
      "metadata": {
        "id": "nuPq34yIKQhu"
      },
      "source": [
        "12) Создать матрицу случайных чисел 5x5. Добавить к ней столбецы максимумов и минимумов по строкам. Получится матрица 5x7.  "
      ]
    },
    {
      "cell_type": "code",
      "execution_count": null,
      "metadata": {
        "id": "WrOHyjpMKQhv",
        "colab": {
          "base_uri": "https://localhost:8080/"
        },
        "outputId": "5973e87a-581e-4f66-eaaf-445d6de3474f"
      },
      "outputs": [
        {
          "output_type": "stream",
          "name": "stdout",
          "text": [
            "[[4 5 3 9 0]\n",
            " [9 6 7 2 2]\n",
            " [3 4 0 6 7]\n",
            " [8 9 5 5 7]\n",
            " [4 0 0 0 6]]\n",
            "[[4 5 3 9 0 9 0]\n",
            " [9 6 7 2 2 9 2]\n",
            " [3 4 0 6 7 7 0]\n",
            " [8 9 5 5 7 9 5]\n",
            " [4 0 0 0 6 6 0]]\n"
          ]
        }
      ],
      "source": [
        "arr = np.random.randint(0, 10, (5, 5))\n",
        "max = arr.max(axis=1, keepdims=True)\n",
        "min = arr.min(axis=1, keepdims=True)\n",
        "res = np.hstack((arr, max, min))\n",
        "\n",
        "print(arr)\n",
        "print(res)\n"
      ]
    },
    {
      "cell_type": "markdown",
      "metadata": {
        "id": "q70yxTa2KQhv"
      },
      "source": [
        "13) Вектор чисел от 1 до 51 преобразовать в вектор нечетных чисел и в вектор четных чисел, поменять их размерности, чтобы получились две матрица. Найти произведение этих матриц. Найти обратную матрицу эётого произведения.  "
      ]
    },
    {
      "cell_type": "code",
      "execution_count": null,
      "metadata": {
        "id": "5lkCIWpzKQhw",
        "colab": {
          "base_uri": "https://localhost:8080/"
        },
        "outputId": "c52629b0-f11a-4800-ef47-7d20db5dc5fb"
      },
      "outputs": [
        {
          "output_type": "stream",
          "name": "stdout",
          "text": [
            "Обратная матрица не существует, так как произведение является вырожденной матрицей.\n"
          ]
        }
      ],
      "source": [
        "arr = np.arange(1, 52)\n",
        "\n",
        "nechet = arr[arr % 2 != 0]\n",
        "chet = arr[arr % 2 == 0]\n",
        "\n",
        "nechet_arr = nechet[:25].reshape(5, 5)\n",
        "chet_arr = chet[:25].reshape(5, 5)\n",
        "\n",
        "res = np.dot(nechet_arr, chet_arr)\n",
        "if np.linalg.det(res) != 0:\n",
        "    inverse_matrix = np.linalg.inv(res)\n",
        "    print(\"Обратная матрица произведения:\\n\", inverse_matrix)\n",
        "else:\n",
        "    print(\"Обратная матрица не существует, так как произведение является вырожденной матрицей.\")\n",
        "\n",
        "\n"
      ]
    },
    {
      "cell_type": "markdown",
      "metadata": {
        "id": "uHeMaga3KQhx"
      },
      "source": [
        "14) Создать 8x8 матрицу и заполнить её в шахматном порядке нулями и единицами."
      ]
    },
    {
      "cell_type": "code",
      "execution_count": null,
      "metadata": {
        "id": "KojZTfVlKQh2",
        "colab": {
          "base_uri": "https://localhost:8080/"
        },
        "outputId": "01b514fa-2070-4ab6-9338-29537a82c163"
      },
      "outputs": [
        {
          "output_type": "execute_result",
          "data": {
            "text/plain": [
              "array([[0., 1., 0., 1., 0., 1., 0., 1.],\n",
              "       [1., 0., 1., 0., 1., 0., 1., 0.],\n",
              "       [0., 1., 0., 1., 0., 1., 0., 1.],\n",
              "       [1., 0., 1., 0., 1., 0., 1., 0.],\n",
              "       [0., 1., 0., 1., 0., 1., 0., 1.],\n",
              "       [1., 0., 1., 0., 1., 0., 1., 0.],\n",
              "       [0., 1., 0., 1., 0., 1., 0., 1.],\n",
              "       [1., 0., 1., 0., 1., 0., 1., 0.]])"
            ]
          },
          "metadata": {},
          "execution_count": 72
        }
      ],
      "source": [
        "arr = np.zeros((8, 8))\n",
        "\n",
        "arr[1::2, ::2] = 1\n",
        "arr[::2, 1::2] = 1\n",
        "\n",
        "arr"
      ]
    }
  ],
  "metadata": {
    "kernelspec": {
      "display_name": "Python 3 (ipykernel)",
      "language": "python",
      "name": "python3"
    },
    "language_info": {
      "codemirror_mode": {
        "name": "ipython",
        "version": 3
      },
      "file_extension": ".py",
      "mimetype": "text/x-python",
      "name": "python",
      "nbconvert_exporter": "python",
      "pygments_lexer": "ipython3",
      "version": "3.12.4"
    },
    "colab": {
      "provenance": []
    }
  },
  "nbformat": 4,
  "nbformat_minor": 0
}
